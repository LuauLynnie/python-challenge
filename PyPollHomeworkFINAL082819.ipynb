{
 "cells": [
  {
   "cell_type": "code",
   "execution_count": null,
   "metadata": {},
   "outputs": [],
   "source": [
    "# Import modules\n",
    "import os\n",
    "import csv"
   ]
  },
  {
   "cell_type": "code",
   "execution_count": null,
   "metadata": {},
   "outputs": [],
   "source": [
    "# Files\n",
    "file_to_load = \"Resources/election_data.csv\"\n",
    "file_to_output = \"election_analysis.txt\"\n"
   ]
  },
  {
   "cell_type": "code",
   "execution_count": 3,
   "metadata": {},
   "outputs": [],
   "source": [
    "# Identify variables\n",
    "total_votes = 0\n",
    "candidate_choices = []\n",
    "candidate_votes = {}\n",
    "candidate_name = []\n",
    "winning_candidate =\"\"\n",
    "winning_count = 0\n",
    "number_votes = 0\n",
    "votes_cast = 0\n",
    "percent_of_votes = 0\n",
    "max_votes = 0"
   ]
  },
  {
   "cell_type": "code",
   "execution_count": 4,
   "metadata": {},
   "outputs": [],
   "source": [
    "# Open and read the CSV\n",
    "with open(file_to_load) as election_data:\n",
    "    reader = csv.reader(election_data)\n",
    "\n",
    "# Count votes line by line\n",
    "    for row in reader:\n",
    "        total_votes = total_votes + 1\n",
    "        candidate_name = row[2]\n",
    "        \n",
    "        if candidate_name not in candidate_choices:\n",
    "            candidate_choices.append(candidate_name)\n",
    "            candidate_votes[candidate_name] = 0\n",
    "            \n",
    "        candidate_votes[candidate_name] = candidate_votes[candidate_name] + 1\n",
    "        \n"
   ]
  },
  {
   "cell_type": "code",
   "execution_count": 5,
   "metadata": {},
   "outputs": [
    {
     "data": {
      "text/plain": [
       "'Khan'"
      ]
     },
     "execution_count": 5,
     "metadata": {},
     "output_type": "execute_result"
    }
   ],
   "source": [
    "max_votes = 0  \n",
    "for candidate, votes in candidate_votes.items():\n",
    "    if votes > max_votes:\n",
    "        max_votes = votes\n",
    "        winning_candidate = candidate\n",
    "        \n",
    "winning_candidate"
   ]
  },
  {
   "cell_type": "code",
   "execution_count": null,
   "metadata": {},
   "outputs": [],
   "source": []
  },
  {
   "cell_type": "code",
   "execution_count": 6,
   "metadata": {},
   "outputs": [
    {
     "name": "stdout",
     "output_type": "stream",
     "text": [
      "\n",
      "\n",
      "Election Results\n",
      "----------------------------\n",
      "Total Votes: 3521002\n",
      "----------------------------\n"
     ]
    }
   ],
   "source": [
    "with open(file_to_output, 'w') as txt_file:\n",
    "    election_results = (\n",
    "        f\"\\n\\nElection Results\\n\"\n",
    "        f\"----------------------------\\n\"\n",
    "        f\"Total Votes: {total_votes}\\n\"\n",
    "        f\"----------------------------\\n\")\n",
    "    print(election_results, end=\"\")\n",
    "    txt_file.write(election_results)\n",
    "    \n",
    "    for candidate in candidate_votes:\n",
    "        percentage = total_votes * 100 / total_votes\n",
    "        outputstr=candidate+ \":\"+ str(percentage)+ \"(\"+ str(votes_cast)+\")\\n\"\n",
    "        txt_file.write(outputstr)\n",
    "    # Print winning candidate\n",
    "    winning_candidate = (\n",
    "        f\"-------------------------\\n\"\n",
    "        f\"Winner: {winning_candidate}\\n\"\n",
    "        f\"-------------------------\\n\")\n",
    "    txt_file.write(winning_candidate)\n",
    "\n",
    "# Save the winning candidate's name to the text file\n",
    "    "
   ]
  },
  {
   "cell_type": "code",
   "execution_count": null,
   "metadata": {},
   "outputs": [],
   "source": []
  }
 ],
 "metadata": {
  "kernelspec": {
   "display_name": "Python 3",
   "language": "python",
   "name": "python3"
  },
  "language_info": {
   "codemirror_mode": {
    "name": "ipython",
    "version": 3
   },
   "file_extension": ".py",
   "mimetype": "text/x-python",
   "name": "python",
   "nbconvert_exporter": "python",
   "pygments_lexer": "ipython3",
   "version": "3.6.8"
  }
 },
 "nbformat": 4,
 "nbformat_minor": 2
}
